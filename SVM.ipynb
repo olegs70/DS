{
 "cells": [
  {
   "cell_type": "markdown",
   "metadata": {},
   "source": [
    "## Simple"
   ]
  },
  {
   "cell_type": "code",
   "execution_count": null,
   "metadata": {},
   "outputs": [],
   "source": [
    "import numpy as np\n",
    "import matplotlib.pyplot as plt\n",
    "from sklearn.datasets import make_blobs\n",
    "from sklearn.naive_bayes import GaussianNB\n",
    "\n",
    "centers_arr = [[2., 2.],\n",
    "               [5., 5.],\n",
    "               [8., 8.]]\n",
    "\n",
    "x, labels = make_blobs(n_samples = 30, centers=centers_arr, n_features=2, \n",
    "                  random_state=3,\n",
    "                  shuffle=False,          #если false, то данные не будут перемешаны (отдельные кластеры будут друг за другом)\n",
    "                  cluster_std=1.5)        #standard deviation точек вокруг (?) центров кластеров\n",
    "\n",
    "#print (x)\n",
    "#print (labels)\n",
    "\n",
    "plt.rcParams[\"figure.figsize\"] = [12, 8]\n",
    "plt.scatter(x[:, 0], x[:, 1], c=labels, s=50)\n",
    "\n",
    "\n",
    "\n"
   ]
  },
  {
   "cell_type": "code",
   "execution_count": null,
   "metadata": {},
   "outputs": [],
   "source": []
  },
  {
   "cell_type": "code",
   "execution_count": null,
   "metadata": {},
   "outputs": [],
   "source": []
  }
 ],
 "metadata": {
  "kernelspec": {
   "display_name": "Python 3",
   "language": "python",
   "name": "python3"
  },
  "language_info": {
   "codemirror_mode": {
    "name": "ipython",
    "version": 3
   },
   "file_extension": ".py",
   "mimetype": "text/x-python",
   "name": "python",
   "nbconvert_exporter": "python",
   "pygments_lexer": "ipython3",
   "version": "3.7.0"
  }
 },
 "nbformat": 4,
 "nbformat_minor": 2
}
